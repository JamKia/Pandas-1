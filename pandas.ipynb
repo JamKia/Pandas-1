{
  "nbformat": 4,
  "nbformat_minor": 0,
  "metadata": {
    "colab": {
      "name": "pandas.ipynb",
      "provenance": [],
      "collapsed_sections": [],
      "include_colab_link": true
    },
    "kernelspec": {
      "name": "python3",
      "display_name": "Python 3"
    }
  },
  "cells": [
    {
      "cell_type": "markdown",
      "metadata": {
        "id": "view-in-github",
        "colab_type": "text"
      },
      "source": [
        "<a href=\"https://colab.research.google.com/github/JamKia/Pandas-1/blob/main/pandas.ipynb\" target=\"_parent\"><img src=\"https://colab.research.google.com/assets/colab-badge.svg\" alt=\"Open In Colab\"/></a>"
      ]
    },
    {
      "metadata": {
        "id": "E__e74CKIBhk",
        "outputId": "b04a35ed-adad-4f7a-d547-d68d903f415d",
        "colab": {
          "base_uri": "https://localhost:8080/",
          "height": 69
        }
      },
      "cell_type": "code",
      "source": [
        "import pandas as pd\n",
        "import numpy as np\n",
        "myList=[1,2,3]\n",
        "newList=[myList,myList]\n",
        "myDataframe=pd.DataFrame(newList,columns=['r','j','a'])\n",
        "print(myDataframe)"
      ],
      "execution_count": null,
      "outputs": [
        {
          "output_type": "stream",
          "text": [
            "   r  j  a\n",
            "0  1  2  3\n",
            "1  1  2  3\n"
          ],
          "name": "stdout"
        }
      ]
    },
    {
      "metadata": {
        "id": "tDHouIFzIDXX",
        "outputId": "1ac56353-14b4-4e96-cc03-2718e95ddd7d",
        "colab": {
          "base_uri": "https://localhost:8080/",
          "height": 451
        }
      },
      "cell_type": "code",
      "source": [
        "import pandas as pd\n",
        "import numpy as np\n",
        "myDict={'key3':['!',np.nan],'key1':['k','?'],'key5':['2',np.nan]}\n",
        "myDataframe=pd.DataFrame(myDict,index=[1,2])\n",
        "print('\\n myDataframe:\\n',myDataframe)\n",
        "print('\\n isnull:\\n',myDataframe.isnull())\n",
        "print(\"\\n myDataframe['key1'].isnull():\\n\",myDataframe['key1'].isnull())\n",
        "print(\"\\n myDataframe['key3'].isnull():\\n\",myDataframe['key3'].isnull())\n",
        "print(\"\\n myDataframe['key5'].isnull():\\n\",myDataframe['key5'].fillna('R'))"
      ],
      "execution_count": null,
      "outputs": [
        {
          "output_type": "stream",
          "text": [
            "\n",
            " myDataframe:\n",
            "   key1 key3 key5\n",
            "1    k    !    2\n",
            "2    ?  NaN  NaN\n",
            "\n",
            " isnull:\n",
            "     key1   key3   key5\n",
            "1  False  False  False\n",
            "2  False   True   True\n",
            "\n",
            " myDataframe['key1'].isnull():\n",
            " 1    False\n",
            "2    False\n",
            "Name: key1, dtype: bool\n",
            "\n",
            " myDataframe['key3'].isnull():\n",
            " 1    False\n",
            "2     True\n",
            "Name: key3, dtype: bool\n",
            "\n",
            " myDataframe['key5'].isnull():\n",
            " 1    2\n",
            "2    R\n",
            "Name: key5, dtype: object\n"
          ],
          "name": "stdout"
        }
      ]
    },
    {
      "metadata": {
        "id": "bBx171QAIJB7",
        "outputId": "c32ecb23-4c68-4cf1-c5e9-d4b8664b330b",
        "colab": {
          "base_uri": "https://localhost:8080/",
          "height": 225
        }
      },
      "cell_type": "code",
      "source": [
        "array=np.array(   [[100, 90, np.nan, 95],[30, np.nan, 45, 56],[52, 40, 80, 98],[np.nan, np.nan, np.nan, 65]]    )\n",
        "\n",
        "myDataframe=pd.DataFrame(array,columns=['First Score','Fourth Score','Second Score','Third Score'])\n",
        "print(myDataframe)\n",
        "myDataframe.dropna(how = 'any',axis=0,inplace=True) #defualt axis=0 ===> row,     how = 'all' or  'any'\n",
        "print(\"myDataframe:\\n\",myDataframe)\n",
        "print(\"\\n dropna:\\n\",myDataframe.dropna(axis=1))"
      ],
      "execution_count": null,
      "outputs": [
        {
          "output_type": "stream",
          "text": [
            "   First Score  Fourth Score  Second Score  Third Score\n",
            "0        100.0          90.0           NaN         95.0\n",
            "1         30.0           NaN          45.0         56.0\n",
            "2         52.0          40.0          80.0         98.0\n",
            "3          NaN           NaN           NaN         65.0\n",
            "myDataframe:\n",
            "    First Score  Fourth Score  Second Score  Third Score\n",
            "2         52.0          40.0          80.0         98.0\n",
            "\n",
            " dropna:\n",
            "    First Score  Fourth Score  Second Score  Third Score\n",
            "2         52.0          40.0          80.0         98.0\n"
          ],
          "name": "stdout"
        }
      ]
    },
    {
      "metadata": {
        "id": "IBmhtaViILm0",
        "outputId": "62d2b48d-4fe0-4416-9934-c0a3f789b49a",
        "colab": {
          "base_uri": "https://localhost:8080/",
          "height": 81
        }
      },
      "cell_type": "code",
      "source": [
        "myDataframe"
      ],
      "execution_count": null,
      "outputs": [
        {
          "output_type": "execute_result",
          "data": {
            "text/html": [
              "<div>\n",
              "<style scoped>\n",
              "    .dataframe tbody tr th:only-of-type {\n",
              "        vertical-align: middle;\n",
              "    }\n",
              "\n",
              "    .dataframe tbody tr th {\n",
              "        vertical-align: top;\n",
              "    }\n",
              "\n",
              "    .dataframe thead th {\n",
              "        text-align: right;\n",
              "    }\n",
              "</style>\n",
              "<table border=\"1\" class=\"dataframe\">\n",
              "  <thead>\n",
              "    <tr style=\"text-align: right;\">\n",
              "      <th></th>\n",
              "      <th>First Score</th>\n",
              "      <th>Fourth Score</th>\n",
              "      <th>Second Score</th>\n",
              "      <th>Third Score</th>\n",
              "    </tr>\n",
              "  </thead>\n",
              "  <tbody>\n",
              "    <tr>\n",
              "      <th>2</th>\n",
              "      <td>52.0</td>\n",
              "      <td>40.0</td>\n",
              "      <td>80.0</td>\n",
              "      <td>98.0</td>\n",
              "    </tr>\n",
              "  </tbody>\n",
              "</table>\n",
              "</div>"
            ],
            "text/plain": [
              "   First Score  Fourth Score  Second Score  Third Score\n",
              "2         52.0          40.0          80.0         98.0"
            ]
          },
          "metadata": {
            "tags": []
          },
          "execution_count": 4
        }
      ]
    },
    {
      "metadata": {
        "id": "zhdATAysIN-1"
      },
      "cell_type": "code",
      "source": [
        "df=pd.DataFrame()\n",
        "df['r']=[100, 90, np.nan, 95]\n",
        "df['j']=[30, np.nan, 45, 56]\n",
        "df['r1']=[100, 90, np.nan, 95]"
      ],
      "execution_count": null,
      "outputs": []
    },
    {
      "metadata": {
        "id": "qRMkGPd2IQqH",
        "outputId": "fa81c8da-a737-4538-d14e-2477664ed4e8",
        "colab": {
          "base_uri": "https://localhost:8080/",
          "height": 175
        }
      },
      "cell_type": "code",
      "source": [
        "df=df[['r','r1']].mul(2) #there does not exist 'inplace' parameter\n",
        "# so as bottom of this url: https://www.geeksforgeeks.org/python-pandas-dataframe/\n",
        "df"
      ],
      "execution_count": null,
      "outputs": [
        {
          "output_type": "execute_result",
          "data": {
            "text/html": [
              "<div>\n",
              "<style scoped>\n",
              "    .dataframe tbody tr th:only-of-type {\n",
              "        vertical-align: middle;\n",
              "    }\n",
              "\n",
              "    .dataframe tbody tr th {\n",
              "        vertical-align: top;\n",
              "    }\n",
              "\n",
              "    .dataframe thead th {\n",
              "        text-align: right;\n",
              "    }\n",
              "</style>\n",
              "<table border=\"1\" class=\"dataframe\">\n",
              "  <thead>\n",
              "    <tr style=\"text-align: right;\">\n",
              "      <th></th>\n",
              "      <th>r</th>\n",
              "      <th>r1</th>\n",
              "    </tr>\n",
              "  </thead>\n",
              "  <tbody>\n",
              "    <tr>\n",
              "      <th>0</th>\n",
              "      <td>200.0</td>\n",
              "      <td>200.0</td>\n",
              "    </tr>\n",
              "    <tr>\n",
              "      <th>1</th>\n",
              "      <td>180.0</td>\n",
              "      <td>180.0</td>\n",
              "    </tr>\n",
              "    <tr>\n",
              "      <th>2</th>\n",
              "      <td>NaN</td>\n",
              "      <td>NaN</td>\n",
              "    </tr>\n",
              "    <tr>\n",
              "      <th>3</th>\n",
              "      <td>190.0</td>\n",
              "      <td>190.0</td>\n",
              "    </tr>\n",
              "  </tbody>\n",
              "</table>\n",
              "</div>"
            ],
            "text/plain": [
              "       r     r1\n",
              "0  200.0  200.0\n",
              "1  180.0  180.0\n",
              "2    NaN    NaN\n",
              "3  190.0  190.0"
            ]
          },
          "metadata": {
            "tags": []
          },
          "execution_count": 6
        }
      ]
    },
    {
      "metadata": {
        "id": "8iYrO3s2ITt9",
        "outputId": "8abcd233-ca39-49d5-c476-db20e52ed5ad",
        "colab": {
          "base_uri": "https://localhost:8080/",
          "height": 990
        }
      },
      "cell_type": "code",
      "source": [
        "df1 = pd.DataFrame({\"A\":[1, 5, 3, 4, 2], \n",
        "                    \"B\":[3, 2, 4, 3, 4], \n",
        "                    \"C\":[2, 2, 7, 3, 4], \n",
        "                    \"D\":[4, 3, 6, 12, 7]},  \n",
        "                    index =[\"A1\", \"A2\", \"A3\", \"A4\", \"A5\"])\n",
        "df2 = pd.DataFrame({\"A\":[10, 11, 7, 8, 5], \n",
        "                    \"B\":[21, 5, 32, 4, 6],  \n",
        "                    \"C\":[11, 21, 23, 7, 9], \n",
        "                    \"D\":[1, 5, 3, 8, 6]}, \n",
        "                    index =[\"A1\", \"A2\", \"A3\", \"A4\", \"A5\"])\n",
        "# subtract df2 from df1 \n",
        "print(\"\\n df1.sub(df2):\\n\",df1.sub(df2))\n",
        "print(\"\\n df1.mul(df2):\\n\",df1.mul(df2))\n",
        "print(\"\\n df1.add(df2):\\n\",df1.add(df2))\n",
        "print(\"\\n df1.div(df2):\\n\",df1.div(df2))\n",
        "print(\"\\n df1.pow(df2):\\n\",df1.pow(df2))\n",
        "print(\"\\n np.log(df1):\\n\",np.log(df1)) #ln\n",
        "print(\"\\n np.log10(df1):\\n\",np.log(df1)) #log10\n",
        "\n"
      ],
      "execution_count": null,
      "outputs": [
        {
          "output_type": "stream",
          "text": [
            "\n",
            " df1.sub(df2):\n",
            "     A   B   C  D\n",
            "A1 -9 -18  -9  3\n",
            "A2 -6  -3 -19 -2\n",
            "A3 -4 -28 -16  3\n",
            "A4 -4  -1  -4  4\n",
            "A5 -3  -2  -5  1\n",
            "\n",
            " df1.mul(df2):\n",
            "      A    B    C   D\n",
            "A1  10   63   22   4\n",
            "A2  55   10   42  15\n",
            "A3  21  128  161  18\n",
            "A4  32   12   21  96\n",
            "A5  10   24   36  42\n",
            "\n",
            " df1.add(df2):\n",
            "      A   B   C   D\n",
            "A1  11  24  13   5\n",
            "A2  16   7  23   8\n",
            "A3  10  36  30   9\n",
            "A4  12   7  10  20\n",
            "A5   7  10  13  13\n",
            "\n",
            " df1.div(df2):\n",
            "            A         B         C         D\n",
            "A1  0.100000  0.142857  0.181818  4.000000\n",
            "A2  0.454545  0.400000  0.095238  0.600000\n",
            "A3  0.428571  0.125000  0.304348  2.000000\n",
            "A4  0.500000  0.750000  0.428571  1.500000\n",
            "A5  0.400000  0.666667  0.444444  1.166667\n",
            "\n",
            " df1.pow(df2):\n",
            "            A            B                    C          D\n",
            "A1         1  10460353203                 2048          4\n",
            "A2  48828125           32              2097152        243\n",
            "A3      2187            0  8922003266371364727        216\n",
            "A4     65536           81                 2187  429981696\n",
            "A5        32         4096               262144     117649\n",
            "\n",
            " np.log(df1):\n",
            "            A         B         C         D\n",
            "A1  0.000000  1.098612  0.693147  1.386294\n",
            "A2  1.609438  0.693147  0.693147  1.098612\n",
            "A3  1.098612  1.386294  1.945910  1.791759\n",
            "A4  1.386294  1.098612  1.098612  2.484907\n",
            "A5  0.693147  1.386294  1.386294  1.945910\n",
            "\n",
            " np.log10(df1):\n",
            "            A         B         C         D\n",
            "A1  0.000000  1.098612  0.693147  1.386294\n",
            "A2  1.609438  0.693147  0.693147  1.098612\n",
            "A3  1.098612  1.386294  1.945910  1.791759\n",
            "A4  1.386294  1.098612  1.098612  2.484907\n",
            "A5  0.693147  1.386294  1.386294  1.945910\n"
          ],
          "name": "stdout"
        }
      ]
    },
    {
      "metadata": {
        "id": "Lb-ed1G0IXCQ",
        "outputId": "27e7c4a1-6835-4226-e0da-e2d50b6fc923",
        "colab": {
          "base_uri": "https://localhost:8080/",
          "height": 729
        }
      },
      "cell_type": "code",
      "source": [
        "print(\"\\n df1['A'].std():\\n\",df1['A'].std())\n",
        "print(\"\\n df1.std():\\n\",df1.std()) #on each columns\n",
        "print(\"\\n df1.std(axis=1):\\n\",df1.std(axis=1)) #on each row\n",
        "print(\"\\n df1.values:\",type(df1.values),\"\\n\",df1.values)\n",
        "\n",
        "print(\"\\n df1.columns:\",type(list(df1.columns)),\"\\n\",list(df1.columns))\n",
        "print(\"\\n df1.index:\\n\",df1.index)\n",
        "print(\"\\n df1.sample(frac =.25):\\n\",df1.sample(frac =.5))\n",
        "print(\"\\n df1.sample(frac =.25):\\n\",df1.sample(frac =.5))"
      ],
      "execution_count": null,
      "outputs": [
        {
          "output_type": "stream",
          "text": [
            "\n",
            " df1['A'].std():\n",
            " 1.5811388300841898\n",
            "\n",
            " df1.std():\n",
            " A    1.581139\n",
            "B    0.836660\n",
            "C    2.073644\n",
            "D    3.507136\n",
            "dtype: float64\n",
            "\n",
            " df1.std(axis=1):\n",
            " A1    1.290994\n",
            "A2    1.414214\n",
            "A3    1.825742\n",
            "A4    4.358899\n",
            "A5    2.061553\n",
            "dtype: float64\n",
            "\n",
            " df1.values: <class 'numpy.ndarray'> \n",
            " [[ 1  3  2  4]\n",
            " [ 5  2  2  3]\n",
            " [ 3  4  7  6]\n",
            " [ 4  3  3 12]\n",
            " [ 2  4  4  7]]\n",
            "\n",
            " df1.columns: <class 'list'> \n",
            " ['A', 'B', 'C', 'D']\n",
            "\n",
            " df1.index:\n",
            " Index(['A1', 'A2', 'A3', 'A4', 'A5'], dtype='object')\n",
            "\n",
            " df1.sample(frac =.25):\n",
            "     A  B  C  D\n",
            "A5  2  4  4  7\n",
            "A3  3  4  7  6\n",
            "\n",
            " df1.sample(frac =.25):\n",
            "     A  B  C   D\n",
            "A1  1  3  2   4\n",
            "A4  4  3  3  12\n"
          ],
          "name": "stdout"
        }
      ]
    },
    {
      "metadata": {
        "id": "maCNYi6AIZ2J",
        "outputId": "8ce9b5ba-f659-4324-9699-abd5434c4e97",
        "colab": {
          "base_uri": "https://localhost:8080/",
          "height": 121
        }
      },
      "cell_type": "code",
      "source": [
        "np.reshape(np.arange(18),(3,6)).T"
      ],
      "execution_count": null,
      "outputs": [
        {
          "output_type": "execute_result",
          "data": {
            "text/plain": [
              "array([[ 0,  6, 12],\n",
              "       [ 1,  7, 13],\n",
              "       [ 2,  8, 14],\n",
              "       [ 3,  9, 15],\n",
              "       [ 4, 10, 16],\n",
              "       [ 5, 11, 17]])"
            ]
          },
          "metadata": {
            "tags": []
          },
          "execution_count": 9
        }
      ]
    },
    {
      "metadata": {
        "id": "buC_-w4eIce-",
        "outputId": "f63c6e04-e8d9-45f7-9948-ca3ab2e01602",
        "colab": {
          "base_uri": "https://localhost:8080/",
          "height": 642
        }
      },
      "cell_type": "code",
      "source": [
        "dfl = pd.DataFrame(np.random.randn(5, 4), columns=list('ABCD'))\n",
        "print(dfl)\n",
        "print('\\n dfl.iloc[0]:\\n',dfl.iloc[0])\n",
        "print('\\n dfl.iloc[0:2,1:3]:\\n',dfl.iloc[0:2,1:3])\n",
        "print('\\n dfl.iloc[0:2,1]:\\n',dfl.iloc[0:2,1])\n",
        "print('\\n dfl.iloc[:, 2:4]:\\n',dfl.iloc[:, 2:4])\n",
        "print('\\n dfl.iloc[[3,4],[0,1]]:\\n',dfl.iloc[[3,4],[0,1]])\n",
        "\n"
      ],
      "execution_count": null,
      "outputs": [
        {
          "output_type": "stream",
          "text": [
            "          A         B         C         D\n",
            "0 -0.119613 -0.369256 -0.666632 -0.070072\n",
            "1 -1.919020 -1.720718 -0.830660 -0.327970\n",
            "2  0.394250 -0.584913 -2.225512  2.030059\n",
            "3 -1.200455  0.703438 -0.204490  0.349245\n",
            "4 -0.336101 -0.443095 -0.668328 -1.123287\n",
            "\n",
            " dfl.iloc[0]:\n",
            " A   -0.119613\n",
            "B   -0.369256\n",
            "C   -0.666632\n",
            "D   -0.070072\n",
            "Name: 0, dtype: float64\n",
            "\n",
            " dfl.iloc[0:2,1:3]:\n",
            "           B         C\n",
            "0 -0.369256 -0.666632\n",
            "1 -1.720718 -0.830660\n",
            "\n",
            " dfl.iloc[0:2,1]:\n",
            " 0   -0.369256\n",
            "1   -1.720718\n",
            "Name: B, dtype: float64\n",
            "\n",
            " dfl.iloc[:, 2:4]:\n",
            "           C         D\n",
            "0 -0.666632 -0.070072\n",
            "1 -0.830660 -0.327970\n",
            "2 -2.225512  2.030059\n",
            "3 -0.204490  0.349245\n",
            "4 -0.668328 -1.123287\n",
            "\n",
            " dfl.iloc[[3,4],[0,1]]:\n",
            "           A         B\n",
            "3 -1.200455  0.703438\n",
            "4 -0.336101 -0.443095\n"
          ],
          "name": "stdout"
        }
      ]
    },
    {
      "metadata": {
        "id": "ci-gMQyMIfhj",
        "outputId": "f0ada883-f761-4325-872c-65730730a520",
        "colab": {
          "base_uri": "https://localhost:8080/",
          "height": 112
        }
      },
      "cell_type": "code",
      "source": [
        "dfl[(dfl['A'] > 0.5) | (dfl['A'] < -0.5)]"
      ],
      "execution_count": null,
      "outputs": [
        {
          "output_type": "execute_result",
          "data": {
            "text/html": [
              "<div>\n",
              "<style scoped>\n",
              "    .dataframe tbody tr th:only-of-type {\n",
              "        vertical-align: middle;\n",
              "    }\n",
              "\n",
              "    .dataframe tbody tr th {\n",
              "        vertical-align: top;\n",
              "    }\n",
              "\n",
              "    .dataframe thead th {\n",
              "        text-align: right;\n",
              "    }\n",
              "</style>\n",
              "<table border=\"1\" class=\"dataframe\">\n",
              "  <thead>\n",
              "    <tr style=\"text-align: right;\">\n",
              "      <th></th>\n",
              "      <th>A</th>\n",
              "      <th>B</th>\n",
              "      <th>C</th>\n",
              "      <th>D</th>\n",
              "    </tr>\n",
              "  </thead>\n",
              "  <tbody>\n",
              "    <tr>\n",
              "      <th>1</th>\n",
              "      <td>-1.919020</td>\n",
              "      <td>-1.720718</td>\n",
              "      <td>-0.83066</td>\n",
              "      <td>-0.327970</td>\n",
              "    </tr>\n",
              "    <tr>\n",
              "      <th>3</th>\n",
              "      <td>-1.200455</td>\n",
              "      <td>0.703438</td>\n",
              "      <td>-0.20449</td>\n",
              "      <td>0.349245</td>\n",
              "    </tr>\n",
              "  </tbody>\n",
              "</table>\n",
              "</div>"
            ],
            "text/plain": [
              "          A         B        C         D\n",
              "1 -1.919020 -1.720718 -0.83066 -0.327970\n",
              "3 -1.200455  0.703438 -0.20449  0.349245"
            ]
          },
          "metadata": {
            "tags": []
          },
          "execution_count": 11
        }
      ]
    },
    {
      "metadata": {
        "id": "WJ6i-R5zIjCX",
        "outputId": "e6f862de-9987-41fc-c596-4a9e510a517a",
        "colab": {
          "base_uri": "https://localhost:8080/",
          "height": 121
        }
      },
      "cell_type": "code",
      "source": [
        "dfl[df2[1:4] > 0] = 3\n",
        "print(dfl)"
      ],
      "execution_count": null,
      "outputs": [
        {
          "output_type": "stream",
          "text": [
            "          A         B         C         D\n",
            "0 -0.119613 -0.369256 -0.666632 -0.070072\n",
            "1 -1.919020 -1.720718 -0.830660 -0.327970\n",
            "2  0.394250 -0.584913 -2.225512  2.030059\n",
            "3 -1.200455  0.703438 -0.204490  0.349245\n",
            "4 -0.336101 -0.443095 -0.668328 -1.123287\n"
          ],
          "name": "stdout"
        }
      ]
    },
    {
      "metadata": {
        "id": "w3vcY2lzImPG",
        "outputId": "7bb4dde7-93ff-4362-8456-bc91559adcb2",
        "colab": {
          "base_uri": "https://localhost:8080/",
          "height": 382
        }
      },
      "cell_type": "code",
      "source": [
        "df = pd.DataFrame(np.random.rand(10, 3), columns=list('abc'))\n",
        "print('\\n df:\\n',df)\n",
        "print(\"\\n df[(df.a < df.b) & (df.b < df.c)] :\\n\",df[(df.a < df.b) & (df.b < df.c)])\n",
        "print(\"\\n df.query('(a < b) & (b < c)') :\\n\",df.query('(a < b) & (b < c)'))\n"
      ],
      "execution_count": null,
      "outputs": [
        {
          "output_type": "stream",
          "text": [
            "\n",
            " df:\n",
            "           a         b         c\n",
            "0  0.473314  0.085793  0.579380\n",
            "1  0.223246  0.020607  0.076857\n",
            "2  0.404755  0.172245  0.189893\n",
            "3  0.348797  0.430974  0.364670\n",
            "4  0.480736  0.046498  0.789599\n",
            "5  0.407059  0.730813  0.992191\n",
            "6  0.939717  0.805005  0.130001\n",
            "7  0.750264  0.782357  0.240581\n",
            "8  0.833855  0.263999  0.438952\n",
            "9  0.241115  0.031652  0.879827\n",
            "\n",
            " df[(df.a < df.b) & (df.b < df.c)] :\n",
            "           a         b         c\n",
            "5  0.407059  0.730813  0.992191\n",
            "\n",
            " df.query('(a < b) & (b < c)') :\n",
            "           a         b         c\n",
            "5  0.407059  0.730813  0.992191\n"
          ],
          "name": "stdout"
        }
      ]
    },
    {
      "metadata": {
        "id": "73P1EtJD8Av0",
        "outputId": "ef464103-48d3-4852-caa1-a9f5168b25e4",
        "colab": {
          "base_uri": "https://localhost:8080/",
          "height": 206
        }
      },
      "cell_type": "code",
      "source": [
        "import pandas as pd\n",
        "raw_data = {'first_name': ['Jason', 'Molly', 'Tina', 'Jake', 'Amy'], \n",
        "        'last_name': ['Miller', 'Jacobson', 'Ali', 'Milner', 'Cooze'], \n",
        "        'age': [42, 52, 36, 24, 73], \n",
        "        'city': ['San Francisco', 'Baltimore', 'Miami', 'Douglas', 'Boston']}\n",
        "df = pd.DataFrame(raw_data, columns = ['first_name', 'last_name', 'age', 'city'])\n",
        "df"
      ],
      "execution_count": null,
      "outputs": [
        {
          "output_type": "execute_result",
          "data": {
            "text/html": [
              "<div>\n",
              "<style scoped>\n",
              "    .dataframe tbody tr th:only-of-type {\n",
              "        vertical-align: middle;\n",
              "    }\n",
              "\n",
              "    .dataframe tbody tr th {\n",
              "        vertical-align: top;\n",
              "    }\n",
              "\n",
              "    .dataframe thead th {\n",
              "        text-align: right;\n",
              "    }\n",
              "</style>\n",
              "<table border=\"1\" class=\"dataframe\">\n",
              "  <thead>\n",
              "    <tr style=\"text-align: right;\">\n",
              "      <th></th>\n",
              "      <th>first_name</th>\n",
              "      <th>last_name</th>\n",
              "      <th>age</th>\n",
              "      <th>city</th>\n",
              "    </tr>\n",
              "  </thead>\n",
              "  <tbody>\n",
              "    <tr>\n",
              "      <th>0</th>\n",
              "      <td>Jason</td>\n",
              "      <td>Miller</td>\n",
              "      <td>42</td>\n",
              "      <td>San Francisco</td>\n",
              "    </tr>\n",
              "    <tr>\n",
              "      <th>1</th>\n",
              "      <td>Molly</td>\n",
              "      <td>Jacobson</td>\n",
              "      <td>52</td>\n",
              "      <td>Baltimore</td>\n",
              "    </tr>\n",
              "    <tr>\n",
              "      <th>2</th>\n",
              "      <td>Tina</td>\n",
              "      <td>Ali</td>\n",
              "      <td>36</td>\n",
              "      <td>Miami</td>\n",
              "    </tr>\n",
              "    <tr>\n",
              "      <th>3</th>\n",
              "      <td>Jake</td>\n",
              "      <td>Milner</td>\n",
              "      <td>24</td>\n",
              "      <td>Douglas</td>\n",
              "    </tr>\n",
              "    <tr>\n",
              "      <th>4</th>\n",
              "      <td>Amy</td>\n",
              "      <td>Cooze</td>\n",
              "      <td>73</td>\n",
              "      <td>Boston</td>\n",
              "    </tr>\n",
              "  </tbody>\n",
              "</table>\n",
              "</div>"
            ],
            "text/plain": [
              "  first_name last_name  age           city\n",
              "0      Jason    Miller   42  San Francisco\n",
              "1      Molly  Jacobson   52      Baltimore\n",
              "2       Tina       Ali   36          Miami\n",
              "3       Jake    Milner   24        Douglas\n",
              "4        Amy     Cooze   73         Boston"
            ]
          },
          "metadata": {
            "tags": []
          },
          "execution_count": 14
        }
      ]
    },
    {
      "metadata": {
        "id": "RJtaJ_vR8Bsr"
      },
      "cell_type": "code",
      "source": [
        "city_to_state = { 'San Francisco' : 'California', \n",
        "                  'Baltimore' : 'Maryland', \n",
        "                  'Miami' : 'Florida', \n",
        "                  'Douglas' : 'Arizona', \n",
        "                  'Boston' : 'Massachusetts'}"
      ],
      "execution_count": null,
      "outputs": []
    },
    {
      "metadata": {
        "id": "5pPKUT5v8Oc2",
        "outputId": "70ed939a-08ac-4fde-ec1f-e876034b8534",
        "colab": {
          "base_uri": "https://localhost:8080/",
          "height": 206
        }
      },
      "cell_type": "code",
      "source": [
        "df['state'] = df['city'].map(city_to_state)\n",
        "df"
      ],
      "execution_count": null,
      "outputs": [
        {
          "output_type": "execute_result",
          "data": {
            "text/html": [
              "<div>\n",
              "<style scoped>\n",
              "    .dataframe tbody tr th:only-of-type {\n",
              "        vertical-align: middle;\n",
              "    }\n",
              "\n",
              "    .dataframe tbody tr th {\n",
              "        vertical-align: top;\n",
              "    }\n",
              "\n",
              "    .dataframe thead th {\n",
              "        text-align: right;\n",
              "    }\n",
              "</style>\n",
              "<table border=\"1\" class=\"dataframe\">\n",
              "  <thead>\n",
              "    <tr style=\"text-align: right;\">\n",
              "      <th></th>\n",
              "      <th>first_name</th>\n",
              "      <th>last_name</th>\n",
              "      <th>age</th>\n",
              "      <th>city</th>\n",
              "      <th>state</th>\n",
              "    </tr>\n",
              "  </thead>\n",
              "  <tbody>\n",
              "    <tr>\n",
              "      <th>0</th>\n",
              "      <td>Jason</td>\n",
              "      <td>Miller</td>\n",
              "      <td>42</td>\n",
              "      <td>San Francisco</td>\n",
              "      <td>California</td>\n",
              "    </tr>\n",
              "    <tr>\n",
              "      <th>1</th>\n",
              "      <td>Molly</td>\n",
              "      <td>Jacobson</td>\n",
              "      <td>52</td>\n",
              "      <td>Baltimore</td>\n",
              "      <td>Maryland</td>\n",
              "    </tr>\n",
              "    <tr>\n",
              "      <th>2</th>\n",
              "      <td>Tina</td>\n",
              "      <td>Ali</td>\n",
              "      <td>36</td>\n",
              "      <td>Miami</td>\n",
              "      <td>Florida</td>\n",
              "    </tr>\n",
              "    <tr>\n",
              "      <th>3</th>\n",
              "      <td>Jake</td>\n",
              "      <td>Milner</td>\n",
              "      <td>24</td>\n",
              "      <td>Douglas</td>\n",
              "      <td>Arizona</td>\n",
              "    </tr>\n",
              "    <tr>\n",
              "      <th>4</th>\n",
              "      <td>Amy</td>\n",
              "      <td>Cooze</td>\n",
              "      <td>73</td>\n",
              "      <td>Boston</td>\n",
              "      <td>Massachusetts</td>\n",
              "    </tr>\n",
              "  </tbody>\n",
              "</table>\n",
              "</div>"
            ],
            "text/plain": [
              "  first_name last_name  age           city          state\n",
              "0      Jason    Miller   42  San Francisco     California\n",
              "1      Molly  Jacobson   52      Baltimore       Maryland\n",
              "2       Tina       Ali   36          Miami        Florida\n",
              "3       Jake    Milner   24        Douglas        Arizona\n",
              "4        Amy     Cooze   73         Boston  Massachusetts"
            ]
          },
          "metadata": {
            "tags": []
          },
          "execution_count": 16
        }
      ]
    },
    {
      "metadata": {
        "id": "NzCDC8jM8U10",
        "outputId": "27f37b75-8aa6-416d-9146-0fb1d0ab5510",
        "colab": {
          "base_uri": "https://localhost:8080/",
          "height": 104
        }
      },
      "cell_type": "code",
      "source": [
        "\n",
        "list_a = [21, 50, 20]\n",
        "list_b = [10, 20, 30]\n",
        "print( list(map(lambda x, y: x + y, list_a, list_b)) ) \n",
        "\n",
        "\n",
        "def FUNC_if_greater2x(a,b):\n",
        "  if a>2*b:\n",
        "    print(a)\n",
        "  else: print(b)\n",
        "    \n",
        "X= list(map(FUNC_if_greater2x, list_a, list_b))\n",
        "print(X)\n"
      ],
      "execution_count": null,
      "outputs": [
        {
          "output_type": "stream",
          "text": [
            "[31, 70, 50]\n",
            "21\n",
            "50\n",
            "30\n",
            "[None, None, None]\n"
          ],
          "name": "stdout"
        }
      ]
    },
    {
      "metadata": {
        "id": "oIbAjw1VakMt",
        "outputId": "78d3bf41-a03e-49e2-9377-019dcdf67078",
        "colab": {
          "base_uri": "https://localhost:8080/",
          "height": 104
        }
      },
      "cell_type": "code",
      "source": [
        "import pandas as pd\n",
        "\n",
        "series_a = pd.Series([21, 50, 20])\n",
        "series_b = pd.Series([10, 20, 30])\n",
        "print( list(map(lambda x, y: x + y, series_a, series_b)) ) \n",
        "\n",
        "\n",
        "def FUNC_if_greater2x(a,b):\n",
        "  if a>2*b:\n",
        "    print(a)\n",
        "  else: print(b)\n",
        "    \n",
        "X= list(map(FUNC_if_greater2x, series_a, series_b))\n",
        "print(X)\n"
      ],
      "execution_count": null,
      "outputs": [
        {
          "output_type": "stream",
          "text": [
            "[31, 70, 50]\n",
            "21\n",
            "50\n",
            "30\n",
            "[None, None, None]\n"
          ],
          "name": "stdout"
        }
      ]
    },
    {
      "metadata": {
        "id": "2RqiMz5WdXrD",
        "outputId": "fa86a189-87af-47fa-bb8d-59cc9348ccf6",
        "colab": {
          "base_uri": "https://localhost:8080/",
          "height": 260
        }
      },
      "cell_type": "code",
      "source": [
        "import numpy as np\n",
        "\n",
        "df = pd.DataFrame(np.random.rand(4, 3), columns=list('abc'))\n",
        "print(df)\n",
        "\n",
        "print(df.loc[0,:]+ df.loc[1,:])\n",
        "\n",
        "print( list(map(lambda x, y: x + y, df.loc[0,:], df.loc[1,:])) ) \n",
        "\n",
        "series_a = df.loc[0,:]\n",
        "series_b = df.loc[1,:]\n",
        "\n",
        "def FUNC_if_max(a,b):\n",
        "  if a > b:\n",
        "    print(a)\n",
        "    max = a\n",
        "  else:\n",
        "    print(b)\n",
        "    max = b\n",
        "  return max\n",
        "  \n",
        "X= list(map(FUNC_if_max, series_a, series_b))\n",
        "print(X)"
      ],
      "execution_count": null,
      "outputs": [
        {
          "output_type": "stream",
          "text": [
            "          a         b         c\n",
            "0  0.386740  0.154857  0.629923\n",
            "1  0.324738  0.971237  0.469638\n",
            "2  0.502906  0.156428  0.974696\n",
            "3  0.918576  0.523155  0.292797\n",
            "a    0.711478\n",
            "b    1.126094\n",
            "c    1.099561\n",
            "dtype: float64\n",
            "[0.7114781463264074, 1.1260940931768229, 1.099561283289273]\n",
            "0.3867404320725132\n",
            "0.9712374891163118\n",
            "0.6299228502067459\n",
            "[0.3867404320725132, 0.9712374891163118, 0.6299228502067459]\n"
          ],
          "name": "stdout"
        }
      ]
    },
    {
      "metadata": {
        "id": "qkdM1P8mmIZr",
        "colab": {
          "base_uri": "https://localhost:8080/",
          "height": 167
        },
        "outputId": "e1f477c6-c2ff-4b72-d756-6c5fb07be50b"
      },
      "cell_type": "code",
      "source": [
        "list(filter(lambda df : df.loc[0,:] > 0 , df.loc[0,:])) \n"
      ],
      "execution_count": null,
      "outputs": [
        {
          "output_type": "error",
          "ename": "TypeError",
          "evalue": "ignored",
          "traceback": [
            "\u001b[0;31m---------------------------------------------------------------------------\u001b[0m",
            "\u001b[0;31mTypeError\u001b[0m                                 Traceback (most recent call last)",
            "\u001b[0;32m<ipython-input-50-080ee9bb2506>\u001b[0m in \u001b[0;36m<module>\u001b[0;34m()\u001b[0m\n\u001b[0;32m----> 1\u001b[0;31m \u001b[0mlist\u001b[0m\u001b[0;34m(\u001b[0m\u001b[0mfilter\u001b[0m\u001b[0;34m(\u001b[0m \u001b[0mdf\u001b[0m\u001b[0;34m.\u001b[0m\u001b[0mloc\u001b[0m\u001b[0;34m[\u001b[0m\u001b[0;36m0\u001b[0m\u001b[0;34m,\u001b[0m\u001b[0;34m:\u001b[0m\u001b[0;34m]\u001b[0m \u001b[0;34m>\u001b[0m \u001b[0;36m0\u001b[0m \u001b[0;34m,\u001b[0m \u001b[0mdf\u001b[0m\u001b[0;34m.\u001b[0m\u001b[0mloc\u001b[0m\u001b[0;34m[\u001b[0m\u001b[0;36m0\u001b[0m\u001b[0;34m,\u001b[0m\u001b[0;34m:\u001b[0m\u001b[0;34m]\u001b[0m\u001b[0;34m)\u001b[0m\u001b[0;34m)\u001b[0m\u001b[0;34m\u001b[0m\u001b[0;34m\u001b[0m\u001b[0m\n\u001b[0m",
            "\u001b[0;31mTypeError\u001b[0m: 'Series' object is not callable"
          ]
        }
      ]
    },
    {
      "metadata": {
        "id": "kDaz8bBkdmYI",
        "colab": {
          "base_uri": "https://localhost:8080/",
          "height": 34
        },
        "outputId": "f2d1d932-e93c-46b9-a4e4-8075b088881e"
      },
      "cell_type": "code",
      "source": [
        "dict_a = [{'name': 'python', 'points': 10}, {'name': 'java', 'points': 8}]\n",
        "\n",
        "list(filter(lambda x : x['name'] == 'python', dict_a)) # Output: [{'name': 'python', 'points': 10}]\n"
      ],
      "execution_count": null,
      "outputs": [
        {
          "output_type": "execute_result",
          "data": {
            "text/plain": [
              "[{'name': 'python', 'points': 10}]"
            ]
          },
          "metadata": {
            "tags": []
          },
          "execution_count": 41
        }
      ]
    },
    {
      "metadata": {
        "id": "XHuEtUCpr6WV",
        "colab": {
          "base_uri": "https://localhost:8080/",
          "height": 538
        },
        "outputId": "84018556-5cb9-48c6-ea6f-844491dcc078"
      },
      "cell_type": "code",
      "source": [
        "def rule(x, y):\n",
        "    if x == 'high' and y > 10:\n",
        "         return 1\n",
        "    else:\n",
        "         return 0\n",
        "      \n",
        "      \n",
        "import pandas as pd\n",
        "\n",
        "df = pd.DataFrame({ 'c1':[ 'high' ,'high', 'low', 'low'], 'c2': [0, 23, 17, 4]})\n",
        "df['new'] = df.apply(lambda x: rule(x['c1'], x['c2']), axis =  1)\n",
        "print(df.head())\n",
        "print(\"------------------------\\n\")\n",
        "print( df[ (df.loc[:,'c1'] == 'high') & (df.loc[:,'c2'] > 10) ] )\n",
        "print(\"------------------------\\n\")\n",
        "print( df['c1'].value_counts().reset_index().sort_values(by='index'))\n",
        "print(\"------------------------\\n\")\n",
        "print(df['c1'].value_counts())\n",
        "print(\"------------------------\\n\")\n",
        "\n",
        "\n",
        "\"\"\"You have a numerical column, and would like to classify the values \n",
        "in that column into groups, say top 5% into group 1, 5–20% into group 2,\n",
        "20%-50% into group 3, bottom 50% into group 4. Of course, you can do it\n",
        "with pandas.cut, but I’d like to provide another option here:\"\"\"\n",
        "\"\"\"pandas.cut: \"https://pandas.pydata.org/pandas-docs/version/0.23.4/generated/pandas.cut.html\"  \"\"\"\n",
        "\n",
        "import numpy as np\n",
        "cut_points = [np.percentile(df['c2'], i) for i in [50, 80, 95]]\n",
        "print(\"cut_points:\\t\",cut_points)\n",
        "df['group'] = 1\n",
        "for i in range(3):\n",
        "    print(i)\n",
        "    df['group'] = df['group'] + (df['c2'] <= cut_points[i])\n",
        "# or <= cut_points[i]\n",
        "print(df)"
      ],
      "execution_count": null,
      "outputs": [
        {
          "output_type": "stream",
          "text": [
            "     c1  c2  new\n",
            "0  high   0    0\n",
            "1  high  23    1\n",
            "2   low  17    0\n",
            "3   low   4    0\n",
            "------------------------\n",
            "\n",
            "     c1  c2  new\n",
            "1  high  23    1\n",
            "------------------------\n",
            "\n",
            "  index  c1\n",
            "0  high   2\n",
            "1   low   2\n",
            "------------------------\n",
            "\n",
            "high    2\n",
            "low     2\n",
            "Name: c1, dtype: int64\n",
            "------------------------\n",
            "\n",
            "cut_points:\t [10.5, 19.400000000000002, 22.099999999999994]\n",
            "0\n",
            "1\n",
            "2\n",
            "     c1  c2  new  group\n",
            "0  high   0    0      4\n",
            "1  high  23    1      1\n",
            "2   low  17    0      3\n",
            "3   low   4    0      4\n"
          ],
          "name": "stdout"
        }
      ]
    },
    {
      "metadata": {
        "id": "eSm6WbIZvcqQ",
        "colab": {
          "base_uri": "https://localhost:8080/",
          "height": 173
        },
        "outputId": "a82dfd05-2547-44b3-becb-1c809df3fc59"
      },
      "cell_type": "code",
      "source": [
        "import pandas as pd\n",
        "import numpy as np\n",
        "\n",
        "df = pd.DataFrame({ 'id': ['A001','C022',2], 'c1':[0,0,np.nan], 'c2': [np.nan,1,1]})\n",
        "df = df[['id', 'c1', 'c2']]\n",
        "df['num_nulls'] = df[['c1', 'c2']].isnull().sum(axis=1)\n",
        "print(df.head())\n",
        "\n",
        "df_filter = df['id'].isin(['A001','C022',...])\n",
        "print(\"------------------------\\n\")\n",
        "print(df[df_filter])"
      ],
      "execution_count": null,
      "outputs": [
        {
          "output_type": "stream",
          "text": [
            "     id   c1   c2  num_nulls\n",
            "0  A001  0.0  NaN          1\n",
            "1  C022  0.0  1.0          0\n",
            "2     2  NaN  1.0          1\n",
            "------------------------\n",
            "\n",
            "     id   c1   c2  num_nulls\n",
            "0  A001  0.0  NaN          1\n",
            "1  C022  0.0  1.0          0\n"
          ],
          "name": "stdout"
        }
      ]
    },
    {
      "metadata": {
        "id": "SY6L6ef-mD8g"
      },
      "cell_type": "code",
      "source": [
        "from copy import deepcopy\n",
        "df2 = deepcopy(df1)"
      ],
      "execution_count": null,
      "outputs": []
    },
    {
      "metadata": {
        "id": "k-Khva9ftaD-"
      },
      "cell_type": "code",
      "source": [
        "df['maximum'] = df[['c1','c2']].max(axis =1) #fast\n",
        "df['maximum'] = df.apply(lambda x: max(x['c1'], x['c2']), axis = 1) #slow"
      ],
      "execution_count": null,
      "outputs": []
    }
  ]
}